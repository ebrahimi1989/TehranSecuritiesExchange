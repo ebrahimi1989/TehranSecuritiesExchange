{
 "cells": [
  {
   "cell_type": "code",
   "execution_count": 11,
   "metadata": {},
   "outputs": [],
   "source": [
    "import ghasedak\n",
    "def sendMessage(body, receiver):\n",
    "    adBody = \"\\nTSE Analyzer\"\n",
    "    sms = ghasedak.Ghasedak(\"f2aefbfebd47c90dea5f719d24f17df66b4641463745214f17b6a6000e901bdf\")\n",
    "    sms.send({'message':body + adBody, 'receptor' : receiver, 'linenumber': '10008566', 'senddate': '', 'checkid': ''})\n",
    "    "
   ]
  },
  {
   "cell_type": "code",
   "execution_count": 14,
   "metadata": {},
   "outputs": [],
   "source": [
    "sendMessage(\"امروز سهام وخاور روز خوبی رو داشت\", \"09192686890\")"
   ]
  },
  {
   "cell_type": "code",
   "execution_count": null,
   "metadata": {},
   "outputs": [],
   "source": []
  },
  {
   "cell_type": "code",
   "execution_count": null,
   "metadata": {},
   "outputs": [],
   "source": []
  }
 ],
 "metadata": {
  "kernelspec": {
   "display_name": "Python 3",
   "language": "python",
   "name": "python3"
  },
  "language_info": {
   "codemirror_mode": {
    "name": "ipython",
    "version": 3
   },
   "file_extension": ".py",
   "mimetype": "text/x-python",
   "name": "python",
   "nbconvert_exporter": "python",
   "pygments_lexer": "ipython3",
   "version": "3.8.2"
  }
 },
 "nbformat": 4,
 "nbformat_minor": 4
}
